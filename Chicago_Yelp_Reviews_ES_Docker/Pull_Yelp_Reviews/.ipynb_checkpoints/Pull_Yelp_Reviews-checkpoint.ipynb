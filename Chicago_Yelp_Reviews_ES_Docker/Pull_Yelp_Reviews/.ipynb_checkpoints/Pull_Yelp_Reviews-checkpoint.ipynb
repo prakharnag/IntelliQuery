{
 "cells": [
  {
   "cell_type": "code",
   "execution_count": null,
   "id": "d62b01f0",
   "metadata": {},
   "outputs": [],
   "source": [
    "!pip install elasticsearch"
   ]
  },
  {
   "cell_type": "code",
   "execution_count": null,
   "id": "2779e92d",
   "metadata": {},
   "outputs": [],
   "source": [
    "# To search documents \n",
    "\n",
    "from elasticsearch import Elasticsearch\n",
    "import json\n",
    "\n",
    "es = Elasticsearch(['http://localhost:9200'])\n",
    "\n",
    "res = es.search(index=\"chicago_yelp_reviews\", body={\"query\": {\"match_all\": {}}})\n",
    "\n",
    "# Extract the total hit count\n",
    "print(\"Got %d Hits:\" % res['hits']['total']['value'])\n",
    "\n",
    "# Extract hits from the response\n",
    "hits = res.get('hits', {})\n",
    "\n",
    "# Pretty print the hits\n",
    "print(json.dumps(hits, indent=2))\n"
   ]
  },
  {
   "cell_type": "markdown",
   "id": "c0776a5b",
   "metadata": {},
   "source": [
    "## Sanity Test:\n",
    "\n",
    "Execute following commands from the command window/terminal:\n",
    "\n",
    "**To verify the index got created:**\n",
    "- curl -XGET \"http://localhost:9200/_cat/indices?v\"\n",
    "\n",
    "**To check the structure of index:**\n",
    "- curl -X GET \"localhost:9200/chicago_yelp_reviews?pretty\"\n",
    "\n",
    "**To check the stats of the index:**\n",
    "\n",
    "- curl -X GET \"localhost:9200/chicago_yelp_reviews/_stats?pretty\"\n",
    "\n",
    "**To dump the documents in the index to stdout:**\n",
    "- curl -XGET \"http://localhost:9200/chicago_yelp_reviews/_search?pretty=true\"\n",
    "\n",
    "**To dump the mapping of  the index to stdout:**\n",
    "- curl -XGET \"localhost:9200/chicago_yelp_reviews/_mapping?pretty\"\n",
    "\n",
    "\n",
    "## How to delete  the index?\n",
    "**To delete the index you created:**\n",
    "- curl -XDELETE \"http://localhost:9200/chicago_yelp_reviews?pretty\"\n",
    "\n"
   ]
  },
  {
   "cell_type": "code",
   "execution_count": null,
   "id": "72223d50-a5f5-4362-bcf3-9a693a6c1bef",
   "metadata": {},
   "outputs": [],
   "source": []
  }
 ],
 "metadata": {
  "kernelspec": {
   "display_name": "Python 3 (ipykernel)",
   "language": "python",
   "name": "python3"
  },
  "language_info": {
   "codemirror_mode": {
    "name": "ipython",
    "version": 3
   },
   "file_extension": ".py",
   "mimetype": "text/x-python",
   "name": "python",
   "nbconvert_exporter": "python",
   "pygments_lexer": "ipython3",
   "version": "3.11.7"
  }
 },
 "nbformat": 4,
 "nbformat_minor": 5
}
